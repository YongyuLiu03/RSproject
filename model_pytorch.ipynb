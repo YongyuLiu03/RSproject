{
 "cells": [
  {
   "attachments": {},
   "cell_type": "markdown",
   "metadata": {},
   "source": [
    "plan：\n",
    "1. train test split"
   ]
  },
  {
   "attachments": {},
   "cell_type": "markdown",
   "metadata": {},
   "source": [
    "## from here begin"
   ]
  },
  {
   "cell_type": "code",
   "execution_count": 2,
   "metadata": {},
   "outputs": [],
   "source": [
    "# import utils\n",
    "# import data\n",
    "# import model\n",
    "\n",
    "import numpy as np\n",
    "import pandas as pd\n",
    "import torch\n",
    "import datetime\n",
    "from sklearn import datasets\n",
    "import scipy.sparse\n",
    "\n",
    "import argparse\n",
    "from tqdm import tqdm\n",
    "import os\n",
    "import pickle\n",
    "import copy"
   ]
  },
  {
   "cell_type": "code",
   "execution_count": 3,
   "metadata": {},
   "outputs": [],
   "source": [
    "from torch import nn, optim\n",
    "import torch.nn.functional as F"
   ]
  },
  {
   "attachments": {},
   "cell_type": "markdown",
   "metadata": {},
   "source": [
    "# data processing"
   ]
  },
  {
   "cell_type": "code",
   "execution_count": 4,
   "metadata": {},
   "outputs": [],
   "source": [
    "n_users, n_items = 6018, 3018\n",
    "data_path = os.path.join(os.getcwd(), \"Data/ml1m\")"
   ]
  },
  {
   "cell_type": "code",
   "execution_count": 5,
   "metadata": {},
   "outputs": [],
   "source": [
    "train_df = pd.read_csv(data_path + '/train_df.csv', dtype=np.int32)\n",
    "item_warm = train_df['iid'].unique()"
   ]
  },
  {
   "cell_type": "code",
   "execution_count": 6,
   "metadata": {},
   "outputs": [],
   "source": [
    "test_df = pd.read_csv(data_path+'/train_df.csv',dtype=np.int32)\n",
    "item_warm = test_df['iid'].unique()"
   ]
  },
  {
   "cell_type": "code",
   "execution_count": 8,
   "metadata": {},
   "outputs": [],
   "source": [
    "u_pref = np.load(data_path + '/U_emb_Heater.npy')\n",
    "v_pref = np.load(data_path + '/I_emb_Heater.npy')\n",
    "R = np.matmul(u_pref, v_pref.T).T\n",
    "\n",
    "alpha = 4\n",
    "\n",
    "R_train = scipy.sparse.coo_matrix((np.ones(len(train_df)),\n",
    "                                              (train_df['iid'].values,\n",
    "                                              train_df['uid'].values)),\n",
    "                                             shape=(n_items, n_users)).tolil(copy=False)\n",
    "\n",
    "R_test = scipy.sparse.coo_matrix((np.ones(len(test_df)),\n",
    "                                              (test_df['iid'].values,\n",
    "                                              test_df['uid'].values)),\n",
    "                                             shape=(n_items, n_users)).tolil(copy=False)\n",
    "\n",
    "#mask = R_train.toarray()\n",
    "mask = R_test.toarray()\n",
    "R = R - np.min(R)\n",
    "R_output = R\n",
    "\n",
    "pos_sum = np.sum(mask, axis=1, keepdims=True)\n",
    "pos_mean = np.zeros_like(pos_sum)\n",
    "pos_std = np.zeros_like(pos_sum)\n",
    "pos_mean[item_warm, :] = np.sum(R_output[item_warm, :] * mask[item_warm, :], axis=1, keepdims=True) / pos_sum[item_warm, :]\n",
    "pos_std[item_warm, :] = np.sum((R_output[item_warm, :] - pos_mean[item_warm, :]) ** 2 * mask[item_warm, :], axis=1, keepdims=True) / pos_sum[item_warm, :]\n",
    "pos_mean = pos_mean ** alpha\n",
    "weights = np.zeros_like(pos_sum)\n",
    "weights[item_warm, :] = 0 + np.max(pos_mean[item_warm, :]) / pos_mean[item_warm, :]\n",
    "#R_output = R_output * weights * mask + (1 - mask) * R_output\n"
   ]
  },
  {
   "cell_type": "code",
   "execution_count": 9,
   "metadata": {},
   "outputs": [
    {
     "data": {
      "text/plain": [
       "array([(   0,   2), (   0,   7), (   0,   8), ..., (6017, 147),\n",
       "       (6017, 152), (6017,  26)], dtype=[('uid', '<i4'), ('iid', '<i4')])"
      ]
     },
     "execution_count": 9,
     "metadata": {},
     "output_type": "execute_result"
    }
   ],
   "source": [
    "train = train_df.values.ravel().view(dtype=[('uid', np.int32), ('iid', np.int32)])\n",
    "train"
   ]
  },
  {
   "attachments": {},
   "cell_type": "markdown",
   "metadata": {},
   "source": [
    "use test set to see the overall performance of model, and use cold_test and cold_valid to see the performance on cold start scenario"
   ]
  },
  {
   "cell_type": "code",
   "execution_count": 18,
   "metadata": {},
   "outputs": [
    {
     "data": {
      "text/plain": [
       "array([(   0,   2), (   0,   7), (   0,   8), ..., (6017, 147),\n",
       "       (6017, 152), (6017,  26)], dtype=[('uid', '<i4'), ('iid', '<i4')])"
      ]
     },
     "execution_count": 18,
     "metadata": {},
     "output_type": "execute_result"
    }
   ],
   "source": [
    "test = test_df.values.ravel().view(dtype=[('uid', np.int32), ('iid', np.int32)])\n",
    "test"
   ]
  },
  {
   "cell_type": "code",
   "execution_count": 23,
   "metadata": {},
   "outputs": [],
   "source": [
    "cold_test = pd.read_csv(data_path + '/cold_test_df.csv', dtype=np.int32).values.ravel().view(dtype=[('uid', np.int32),\n",
    "                                                                                    ('iid', np.int32)])\n",
    "cold_vali = pd.read_csv(data_path + '/cold_vali_df.csv', dtype=np.int32).values.ravel().view(dtype=[('uid', np.int32),\n",
    "                                                                                    ('iid', np.int32)])\n"
   ]
  },
  {
   "cell_type": "code",
   "execution_count": 19,
   "metadata": {},
   "outputs": [],
   "source": [
    "from torch.utils.data import DataLoader, TensorDataset\n",
    "from torch.utils.data.dataloader import default_collate\n",
    "\n",
    "# Convert your data to PyTorch tensors\n",
    "R_tensor = torch.tensor(R, dtype=torch.float32)\n",
    "R_output_tensor = torch.tensor(R_output, dtype=torch.float32)\n",
    "\n",
    "# Create a dataset where both the input and the target are R (since it's an autoencoder)\n",
    "dataset = TensorDataset(R_tensor, R_output_tensor)\n",
    "def custom_collate_fn(batch):\n",
    "    return torch.stack(batch) \n",
    "\n",
    "\n",
    "#train_loader = DataLoader(dataset, batch_size=50, shuffle=True, collate_fn=default_collate)\n",
    "test_loader = DataLoader(dataset, batch_size=50, shuffle=True, collate_fn=default_collate)\n"
   ]
  },
  {
   "attachments": {},
   "cell_type": "markdown",
   "metadata": {},
   "source": [
    "# model"
   ]
  },
  {
   "cell_type": "code",
   "execution_count": 11,
   "metadata": {},
   "outputs": [],
   "source": [
    "class AutoEncoder(nn.Module):\n",
    "    def __init__(self, layer_sizes, use_batch_norm=False):\n",
    "        super(AutoEncoder, self).__init__()\n",
    "        self.layers = nn.ModuleList()\n",
    "        self.use_batch_norm = use_batch_norm\n",
    "        self.batch_norms = nn.ModuleList()\n",
    "\n",
    "        # Setup layers\n",
    "        for i in range(len(layer_sizes) - 1):\n",
    "            self.layers.append(nn.Linear(layer_sizes[i], layer_sizes[i + 1]))\n",
    "            if use_batch_norm and i < len(layer_sizes) - 1:\n",
    "                self.batch_norms.append(nn.BatchNorm1d(layer_sizes[i + 1]))\n",
    "\n",
    "    def forward(self, x):\n",
    "        x = x.view(-1, 6018)\n",
    "        for i, layer in enumerate(self.layers):\n",
    "            x = layer(x)\n",
    "            if self.use_batch_norm and i < len(self.layers) - 1:\n",
    "                x = self.batch_norms[i](x)\n",
    "            if i < len(self.layers) - 1:\n",
    "                x = torch.relu(x)\n",
    "        return x\n",
    "\n",
    "\n",
    "\n",
    "    def get_regularization_loss(self):\n",
    "        reg_loss = 0.0\n",
    "        for layer in self.layers:\n",
    "            reg_loss += torch.norm(layer.weight, p=2) + torch.norm(layer.bias, p=2)\n",
    "        return reg_loss\n"
   ]
  },
  {
   "cell_type": "code",
   "execution_count": 12,
   "metadata": {},
   "outputs": [],
   "source": [
    "class DistributionGenerator(nn.Module):\n",
    "    def __init__(self, input_dim, output_dim):\n",
    "        super(DistributionGenerator, self).__init__()\n",
    "        self.layers = nn.Sequential(\n",
    "            nn.Linear(input_dim, 50),\n",
    "            nn.Tanh(),\n",
    "            nn.Linear(50, 50),\n",
    "            nn.Tanh(),\n",
    "            nn.Linear(50, output_dim)\n",
    "        )\n",
    "\n",
    "    def forward(self, x):\n",
    "        return self.layers(x)\n",
    "\n"
   ]
  },
  {
   "cell_type": "code",
   "execution_count": 13,
   "metadata": {},
   "outputs": [],
   "source": [
    "def gaussian_kernel(x, y, sigma=1.0):\n",
    "    \"\"\"\n",
    "    Computes the Gaussian kernel matrix between two batches of data points.\n",
    "    \"\"\"\n",
    "    beta = 1. / (2. * sigma ** 2)\n",
    "    dist = torch.cdist(x, y)**2\n",
    "    return torch.exp(-beta * dist)\n",
    "\n",
    "def mmd_loss(source, target, sigma=1.0):\n",
    "    \"\"\"\n",
    "    Computes the Maximum Mean Discrepancy (MMD) between two samples: source and target.\n",
    "    The kernel used here is the Gaussian kernel.\n",
    "    \"\"\"\n",
    "    # Compute the kernel matrices for source, target, and between source and target\n",
    "    xx_kernel = gaussian_kernel(source, source, sigma)\n",
    "    yy_kernel = gaussian_kernel(target, target, sigma)\n",
    "    xy_kernel = gaussian_kernel(source, target, sigma)\n",
    "\n",
    "    # Compute MMD as the sum of the mean values of the kernels\n",
    "    mmd = xx_kernel.mean() + yy_kernel.mean() - 2 * xy_kernel.mean()\n",
    "    return mmd\n",
    "\n"
   ]
  },
  {
   "cell_type": "code",
   "execution_count": 14,
   "metadata": {},
   "outputs": [],
   "source": [
    "import torch\n",
    "\n",
    "def calculate_mmd_mask(source, target, threshold=0.1):\n",
    "    discrepancies = torch.abs(source - target)\n",
    "    mask = (discrepancies > threshold).float()  # Creates a mask of 0s and 1s\n",
    "    return mask\n"
   ]
  },
  {
   "cell_type": "code",
   "execution_count": 15,
   "metadata": {},
   "outputs": [],
   "source": [
    "def selective_mmd_loss(source, target, mask, sigma=1.0):\n",
    "    mmd_loss_full = mmd_loss(source, target, sigma)\n",
    "    masked_mmd_loss = mmd_loss_full * mask\n",
    "    return masked_mmd_loss.mean()  # Average only over selected elements\n"
   ]
  },
  {
   "cell_type": "code",
   "execution_count": 83,
   "metadata": {},
   "outputs": [],
   "source": [
    "alpha = 0.1  # Start with a base alpha\n",
    "alpha *= (epoch / 10)  # Example of dynamic adjustment based on epoch"
   ]
  },
  {
   "attachments": {},
   "cell_type": "markdown",
   "metadata": {},
   "source": [
    "1. check the losses on chatgpt\n",
    "2. check how alpha works\n",
    "3. stop at 1pm to start doing slides"
   ]
  },
  {
   "attachments": {},
   "cell_type": "markdown",
   "metadata": {},
   "source": [
    "# training and save model"
   ]
  },
  {
   "cell_type": "code",
   "execution_count": 16,
   "metadata": {},
   "outputs": [],
   "source": [
    "import matplotlib.pyplot as plt"
   ]
  },
  {
   "cell_type": "code",
   "execution_count": 39,
   "metadata": {},
   "outputs": [
    {
     "name": "stdout",
     "output_type": "stream",
     "text": [
      "alpha = 5\n",
      "Epoch 1, MSE Loss: 0.011602059938013554, Fairness Loss: 0.349746435880661\n",
      "Epoch 2, MSE Loss: 0.009717293083667755, Fairness Loss: 0.29464760422706604\n"
     ]
    }
   ],
   "source": [
    "autoencoder = AutoEncoder([6018, 100, 6018], use_batch_norm=True)  #100 neurons, so it should be 100 in the hidden layer, but got error, so adjust 50 to 100\n",
    "dist_gen = DistributionGenerator(1, 6018)  # Input dimension and output dimension, 1 based on paper\n",
    "ae_optimizer = optim.Adam(autoencoder.parameters(), lr=0.005)\n",
    "dg_optimizer = optim.Adam(dist_gen.parameters(), lr=0.005)\n",
    "\n",
    "batch_size = 50\n",
    "num_epochs = 15\n",
    "args_max_pos_num = 1000\n",
    "#alpha = 200\n",
    "\n",
    "losses = {\n",
    "    alpha: {'mse': [], 'fairness': []}\n",
    "    for alpha in [5, 50, 100]\n",
    "}\n",
    "\n",
    "autoencoder.train()\n",
    "dist_gen.train()\n",
    "\n",
    "alpha_list = [5,50,100]\n",
    "\n",
    "for alpha in alpha_list:\n",
    "    print(f'alpha = {alpha}')\n",
    "\n",
    "    for epoch in range(num_epochs):\n",
    "        epoch_mse_losses = []\n",
    "        epoch_fairness_losses = []\n",
    "        for inputs, targets in train_loader:\n",
    "            #autoencoder side\n",
    "            reconstructed = autoencoder(inputs)  \n",
    "            mse_loss = torch.nn.functional.mse_loss(reconstructed, inputs) \n",
    "            reg_loss = autoencoder.get_regularization_loss()\n",
    "\n",
    "\n",
    "            # Distribution generator side\n",
    "            random_seed = torch.randn((args_max_pos_num, 1))\n",
    "            P = dist_gen(random_seed)\n",
    "            mask = calculate_mmd_mask(reconstructed, inputs)\n",
    "            dg_loss = selective_mmd_loss(P, inputs.mean(dim=0, keepdim=True), mask)\n",
    "            \n",
    "            #combine losses\n",
    "            fairness_loss = dg_loss\n",
    "            total_loss = mse_loss + 0.00001 * reg_loss + fairness_loss #previous ae_loss\n",
    "            \n",
    "            total_loss.backward()\n",
    "            ae_optimizer.step()\n",
    "            ae_optimizer.zero_grad()\n",
    "            \n",
    "            epoch_mse_losses.append(mse_loss.item())\n",
    "            epoch_fairness_losses.append(fairness_loss.item())\n",
    "            \n",
    "        losses[alpha]['mse'].append(sum(epoch_mse_losses) / len(epoch_mse_losses))\n",
    "        losses[alpha]['fairness'].append(sum(epoch_fairness_losses) / len(epoch_fairness_losses))\n",
    "\n",
    "\n",
    "        print(f'Epoch {epoch+1}, MSE Loss: {mse_loss.item()}, Fairness Loss: {fairness_loss.item()}')\n",
    "\n",
    "# torch.save(autoencoder.state_dict(), 'autoencoder.pth')\n",
    "# torch.save(dist_gen.state_dict(), 'dist_gen.pth')\n",
    "\n"
   ]
  },
  {
   "cell_type": "code",
   "execution_count": 88,
   "metadata": {},
   "outputs": [
    {
     "data": {
      "image/png": "[encoded data removed]",
      "text/plain": [
       "<Figure size 1000x500 with 1 Axes>"
      ]
     },
     "metadata": {},
     "output_type": "display_data"
    }
   ],
   "source": [
    "plt.figure(figsize=(10, 5))\n",
    "plt.plot(mse_losses, label='MSE Loss')\n",
    "plt.plot(fairness_losses, label='Fairness Loss')\n",
    "plt.title('Training Losses Over Epochs')\n",
    "plt.xlabel('Epochs')\n",
    "plt.ylabel('Loss')\n",
    "plt.legend()\n",
    "plt.show()"
   ]
  },
  {
   "cell_type": "code",
   "execution_count": null,
   "metadata": {},
   "outputs": [],
   "source": [
    "import matplotlib.pyplot as plt\n",
    "\n",
    "# Assuming `losses` is the dictionary containing your loss data\n",
    "alphas = [5, 50, 100]\n",
    "num_epochs = 15\n",
    "\n",
    "# Create a plot for MSE losses\n",
    "plt.figure(figsize=(10, 5))\n",
    "for alpha in alphas:\n",
    "    plt.plot(losses[alpha]['mse'], label=f'Alpha {alpha}')\n",
    "plt.title('MSE Loss Across Different Alphas')\n",
    "plt.xlabel('Epoch')\n",
    "plt.ylabel('MSE Loss')\n",
    "plt.legend()\n",
    "plt.grid(True)\n",
    "plt.show()\n",
    "\n",
    "# Create a plot for Fairness losses\n",
    "plt.figure(figsize=(10, 5))\n",
    "for alpha in alphas:\n",
    "    plt.plot(losses[alpha]['fairness'], label=f'Alpha {alpha}')\n",
    "plt.title('Fairness Loss Across Different Alphas')\n",
    "plt.xlabel('Epoch')\n",
    "plt.ylabel('Fairness Loss')\n",
    "plt.legend()\n",
    "plt.grid(True)\n",
    "plt.show()\n"
   ]
  },
  {
   "attachments": {},
   "cell_type": "markdown",
   "metadata": {},
   "source": [
    "# testing"
   ]
  },
  {
   "cell_type": "code",
   "execution_count": 20,
   "metadata": {},
   "outputs": [
    {
     "name": "stdout",
     "output_type": "stream",
     "text": [
      "Epoch 1, Average MSE Loss: 0.01680698640430804, Average Fairness Loss: 0.25413257384397947\n",
      "Epoch 1, MSE Loss: 0.002929394831880927, Fairness Loss: 0.07696766406297684\n",
      "Epoch 2, Average MSE Loss: 0.001634926832907024, Average Fairness Loss: 0.02819187767406712\n",
      "Epoch 2, MSE Loss: 0.0009310755413025618, Fairness Loss: 0.00544276786968112\n",
      "Epoch 3, Average MSE Loss: 0.0010104828407285643, Average Fairness Loss: 0.009707445836030558\n",
      "Epoch 3, MSE Loss: 0.0009667584090493619, Fairness Loss: 0.009638825431466103\n",
      "Epoch 4, Average MSE Loss: 0.0006715437806722876, Average Fairness Loss: 0.003528085217589787\n",
      "Epoch 4, MSE Loss: 0.0006403435254469514, Fairness Loss: 0.002251493511721492\n",
      "Epoch 5, Average MSE Loss: 0.0004768308879975535, Average Fairness Loss: 0.0013768211785764968\n",
      "Epoch 5, MSE Loss: 0.0004824814386665821, Fairness Loss: 0.0005194852710701525\n",
      "Epoch 6, Average MSE Loss: 0.000372716586380342, Average Fairness Loss: 0.0007011772896312025\n",
      "Epoch 6, MSE Loss: 0.0003923016192857176, Fairness Loss: 0.0009972567204385996\n",
      "Epoch 7, Average MSE Loss: 0.0003232074270242459, Average Fairness Loss: 0.0005384246744411104\n",
      "Epoch 7, MSE Loss: 0.0003565321967471391, Fairness Loss: 0.00011954292131122202\n",
      "Epoch 8, Average MSE Loss: 0.00029148572252406815, Average Fairness Loss: 0.0004705993252754837\n",
      "Epoch 8, MSE Loss: 0.00012712353782262653, Fairness Loss: 0.0\n",
      "Epoch 9, Average MSE Loss: 0.00025882704548927055, Average Fairness Loss: 0.00034752566968608497\n",
      "Epoch 9, MSE Loss: 0.00016163910913746804, Fairness Loss: 2.9958204322610982e-05\n",
      "Epoch 10, Average MSE Loss: 0.00023077449620105938, Average Fairness Loss: 0.00016674807778547458\n",
      "Epoch 10, MSE Loss: 0.0001674738887231797, Fairness Loss: 0.00013938282791059464\n"
     ]
    }
   ],
   "source": [
    "autoencoder = AutoEncoder([6018, 100, 6018], use_batch_norm=True)  #100 neurons, so it should be 100 in the hidden layer, but got error, so adjust 50 to 100\n",
    "autoencoder.load_state_dict(torch.load('autoencoder.pth'))\n",
    "dist_gen = DistributionGenerator(1, 6018)  # Input dimension and output dimension, 1 based on paper\n",
    "dist_gen.load_state_dict(torch.load('dist_gen.pth'))\n",
    "\n",
    "ae_optimizer = optim.Adam(autoencoder.parameters(), lr=0.005)\n",
    "dg_optimizer = optim.Adam(dist_gen.parameters(), lr=0.005)\n",
    "\n",
    "batch_size = 50\n",
    "num_epochs = 10\n",
    "args_max_pos_num = 1000\n",
    "#alpha = 200\n",
    "\n",
    "mse_losses = []\n",
    "fairness_losses = []\n",
    "\n",
    "autoencoder.eval()\n",
    "dist_gen.eval()\n",
    "\n",
    "for epoch in range(num_epochs):\n",
    "    epoch_mse_losses = []\n",
    "    epoch_fairness_losses = []\n",
    "    for inputs, targets in test_loader:\n",
    "        #autoencoder side\n",
    "        reconstructed = autoencoder(inputs)  \n",
    "        mse_loss = torch.nn.functional.mse_loss(reconstructed, inputs) \n",
    "        reg_loss = autoencoder.get_regularization_loss()\n",
    "\n",
    "\n",
    "        # Distribution generator side\n",
    "        random_seed = torch.randn((args_max_pos_num, 1))\n",
    "        P = dist_gen(random_seed)\n",
    "        mask = calculate_mmd_mask(reconstructed, inputs)\n",
    "        dg_loss = selective_mmd_loss(P, inputs.mean(dim=0, keepdim=True), mask)\n",
    "        \n",
    "        #combine losses\n",
    "        fairness_loss = dg_loss\n",
    "        total_loss = mse_loss + 0.00001 * reg_loss + fairness_loss #previous ae_loss\n",
    "        \n",
    "        total_loss.backward()\n",
    "        ae_optimizer.step()\n",
    "        ae_optimizer.zero_grad()\n",
    "        \n",
    "        epoch_mse_losses.append(mse_loss.item())\n",
    "        epoch_fairness_losses.append(fairness_loss.item())\n",
    "        \n",
    "    mse_losses.append(sum(epoch_mse_losses) / len(epoch_mse_losses))\n",
    "    fairness_losses.append(sum(epoch_fairness_losses) / len(epoch_fairness_losses))\n",
    "    print(f'Epoch {epoch+1}, Average MSE Loss: {mse_losses[-1]}, Average Fairness Loss: {fairness_losses[-1]}')\n",
    "\n",
    "        \n",
    "        \n",
    "\n",
    "    print(f'Epoch {epoch+1}, MSE Loss: {mse_loss.item()}, Fairness Loss: {fairness_loss.item()}')\n",
    "\n",
    "\n"
   ]
  },
  {
   "cell_type": "code",
   "execution_count": 21,
   "metadata": {},
   "outputs": [
    {
     "data": {
      "image/png": "[encoded data removed]",
      "text/plain": [
       "<Figure size 1000x500 with 1 Axes>"
      ]
     },
     "metadata": {},
     "output_type": "display_data"
    }
   ],
   "source": [
    "plt.figure(figsize=(10, 5))\n",
    "plt.plot(mse_losses, label='MSE Loss')\n",
    "plt.plot(fairness_losses, label='Fairness Loss')\n",
    "plt.title('Testing Losses Over Epochs')\n",
    "plt.xlabel('Epochs')\n",
    "plt.ylabel('Loss')\n",
    "plt.legend()\n",
    "plt.show()"
   ]
  },
  {
   "attachments": {},
   "cell_type": "markdown",
   "metadata": {},
   "source": [
    "# evaluation\n",
    "## NCDG: user view utility"
   ]
  },
  {
   "cell_type": "code",
   "execution_count": 34,
   "metadata": {},
   "outputs": [
    {
     "name": "stdout",
     "output_type": "stream",
     "text": [
      "Average Precision@15: 0.8756846898628425\n",
      "Average NDCG@15: 0.8843587040901184\n"
     ]
    }
   ],
   "source": [
    "k=15\n",
    "def compute_precision_recall_ndcg(preds, truths, k):\n",
    "    batch_size, num_items = preds.shape\n",
    "    _, indices = torch.topk(preds, k, dim=1)  # Get indices of top-k predictions\n",
    "    relevant = torch.zeros_like(preds, dtype=torch.float).scatter_(1, indices, 1)  # Mark top-k predictions\n",
    "    \n",
    "    hits = (relevant * truths).sum(dim=1)  # Calculate hits by element-wise multiplication and summing over items\n",
    "    precision = hits.sum().item() / (k * batch_size)  # Total hits / (k * number of users)\n",
    "    recall = hits.sum().item() / truths.sum().item()  # Total hits / total true interactions\n",
    "\n",
    "    # NDCG calculation\n",
    "    ndcg = 0\n",
    "    for i in range(batch_size):\n",
    "        sorted_scores = preds[i, indices[i]]\n",
    "        true_labels = truths[i, indices[i]]\n",
    "        idcg = (1 / torch.log2(torch.arange(2, k+2).float())).sum()\n",
    "        dcg = (true_labels / torch.log2(torch.arange(2, k+2).float())).sum()\n",
    "        ndcg += (dcg / idcg)\n",
    "\n",
    "    ndcg /= batch_size\n",
    "\n",
    "    return precision, recall, ndcg\n",
    "\n",
    "with torch.no_grad():\n",
    "    precisions = []\n",
    "    recalls = []\n",
    "    ndcgs = []\n",
    "    for inputs, targets in test_loader:\n",
    "        reconstructed = autoencoder(inputs)\n",
    "        precision, recall, ndcg = compute_precision_recall_ndcg(reconstructed, targets, k)\n",
    "        precisions.append(precision)\n",
    "        recalls.append(recall)\n",
    "        ndcgs.append(ndcg)\n",
    "\n",
    "    avg_precision = sum(precisions) / len(precisions)\n",
    "    avg_recall = sum(recalls) / len(recalls)\n",
    "    avg_ndcg = sum(ndcgs) / len(ndcgs)\n",
    "\n",
    "    print(f'Average Precision@{k}: {avg_precision}')\n",
    "    #print(f'Average Recall@{k}: {avg_recall}')\n",
    "    print(f'Average NDCG@{k}: {avg_ndcg}')\n"
   ]
  },
  {
   "attachments": {},
   "cell_type": "markdown",
   "metadata": {},
   "source": [
    "## mdg min & max"
   ]
  },
  {
   "cell_type": "code",
   "execution_count": 36,
   "metadata": {},
   "outputs": [
    {
     "name": "stdout",
     "output_type": "stream",
     "text": [
      "mdg values top 10 [0. 0. 0. ... 0. 0. 0.]\n",
      "Number of non-zero MDG values: 0 out of 3018\n",
      "MDG-min10%: 0.0\n",
      "MDG-max10%: 0.0\n"
     ]
    }
   ],
   "source": [
    "import torch\n",
    "import numpy as np\n",
    "\n",
    "def compute_metrics_and_mdg(preds, truths, k):\n",
    "    batch_size, num_items = preds.shape\n",
    "    _, indices = torch.topk(preds, k, dim=1)\n",
    "    relevant = torch.zeros_like(preds, dtype=torch.float).scatter_(1, indices, 1)\n",
    "\n",
    "    mdgs = []\n",
    "\n",
    "    # Calculate MDG for each item\n",
    "    for i in range(batch_size):\n",
    "        user_mdgs = []\n",
    "        for rank, index in enumerate(indices[i]):\n",
    "            if truths[i, index] == 1:\n",
    "                mdg = 1 / np.log2(1 + rank + 1)\n",
    "                user_mdgs.append(mdg)\n",
    "            else:\n",
    "                user_mdgs.append(0)\n",
    "        \n",
    "        mdgs.append(np.mean(user_mdgs) if user_mdgs else 0)\n",
    "\n",
    "    return np.mean(mdgs), mdgs\n",
    "\n",
    "\n",
    "mdg_values = []\n",
    "with torch.no_grad():\n",
    "    for inputs, targets in test_loader:\n",
    "        reconstructed = autoencoder(inputs)\n",
    "        avg_mdg, item_mdgs = compute_metrics_and_mdg(reconstructed, targets, k)\n",
    "        mdg_values.extend(item_mdgs) \n",
    "\n",
    "# Calculate MDG-min10% and MDG-max10%\n",
    "mdg_values = np.array(mdg_values)\n",
    "print(f\"mdg values top 10 {mdg_values}\")\n",
    "nonzero_mdgs = np.count_nonzero(mdg_values)\n",
    "print(f\"Number of non-zero MDG values: {nonzero_mdgs} out of {len(mdg_values)}\")\n",
    "\n",
    "tenth_percentile_index = int(len(mdg_values) * 0.1)\n",
    "mdg_min10 = np.mean(np.sort(mdg_values)[:tenth_percentile_index])\n",
    "mdg_max10 = np.mean(np.sort(mdg_values)[-tenth_percentile_index:])\n",
    "\n",
    "print(f\"MDG-min10%: {mdg_min10}\")\n",
    "print(f\"MDG-max10%: {mdg_max10}\")\n"
   ]
  },
  {
   "attachments": {},
   "cell_type": "markdown",
   "metadata": {},
   "source": [
    "## distribution of debugging"
   ]
  },
  {
   "cell_type": "code",
   "execution_count": 37,
   "metadata": {},
   "outputs": [
    {
     "data": {
      "image/png": "[encoded data removed]",
      "text/plain": [
       "<Figure size 1000x500 with 1 Axes>"
      ]
     },
     "metadata": {},
     "output_type": "display_data"
    }
   ],
   "source": [
    "scores = []\n",
    "with torch.no_grad():\n",
    "    for inputs, _ in test_loader:\n",
    "        reconstructed = autoencoder(inputs)\n",
    "        scores.extend(reconstructed.flatten().tolist())\n",
    "\n",
    "import matplotlib.pyplot as plt\n",
    "\n",
    "plt.figure(figsize=(10, 5))\n",
    "plt.hist(scores, bins=50, color='blue', alpha=0.7)\n",
    "plt.title('Distribution of Predicted Scores')\n",
    "plt.xlabel('Scores')\n",
    "plt.ylabel('Frequency')\n",
    "plt.show()\n"
   ]
  }
 ],
 "metadata": {
  "kernelspec": {
   "display_name": "unav",
   "language": "python",
   "name": "python3"
  },
  "language_info": {
   "codemirror_mode": {
    "name": "ipython",
    "version": 3
   },
   "file_extension": ".py",
   "mimetype": "text/x-python",
   "name": "python",
   "nbconvert_exporter": "python",
   "pygments_lexer": "ipython3",
   "version": "3.9.18"
  },
  "orig_nbformat": 4,
  "vscode": {
   "interpreter": {
    "hash": "17b0ace7df90b7db43f09ae2512abffd536b89597d4adb768ffff4e152e18f41"
   }
  }
 },
 "nbformat": 4,
 "nbformat_minor": 2
}
