{
 "cells": [
  {
   "cell_type": "code",
   "execution_count": 1,
   "metadata": {},
   "outputs": [],
   "source": [
    "import torch\n",
    "import torch.nn as nn\n",
    "import torch.optim as optim"
   ]
  },
  {
   "attachments": {},
   "cell_type": "markdown",
   "metadata": {},
   "source": [
    "plan：\n",
    "1. train test split"
   ]
  },
  {
   "cell_type": "code",
   "execution_count": null,
   "metadata": {},
   "outputs": [],
   "source": [
    "class AutoEncoder(nn.Module):\n",
    "    def __init__(self, layer_sizes, use_batch_norm=False):\n",
    "        super(AutoEncoder, self).__init__()\n",
    "        self.layers = nn.ModuleList()\n",
    "        self.use_batch_norm = use_batch_norm\n",
    "        self.batch_norms = nn.ModuleList() if use_batch_norm else None\n",
    "\n",
    "        for i in range(len(layer_sizes) - 1):\n",
    "            self.layers.append(nn.Linear(layer_sizes[i], layer_sizes[i + 1]))\n",
    "            if use_batch_norm:\n",
    "                self.batch_norms.append(nn.BatchNorm1d(layer_sizes[i + 1]))\n",
    "\n",
    "    def forward(self, x):\n",
    "        for i, layer in enumerate(self.layers):\n",
    "            x = layer(x)\n",
    "            if self.use_batch_norm:\n",
    "                x = self.batch_norms[i](x)\n",
    "                \n",
    "        return x\n",
    "\n",
    "    def get_regularization_loss(self):\n",
    "        reg_loss = 0.0\n",
    "        for layer in self.layers:\n",
    "            reg_loss += torch.norm(layer.weight, p=2) + torch.norm(layer.bias, p=2)\n",
    "        return reg_loss\n"
   ]
  },
  {
   "cell_type": "code",
   "execution_count": null,
   "metadata": {},
   "outputs": [],
   "source": [
    "class DistributionGenerator(nn.Module):\n",
    "    def __init__(self, input_dim, output_dim):\n",
    "        super(DistributionGenerator, self).__init__()\n",
    "        self.layers = nn.Sequential(\n",
    "            nn.Linear(input_dim, 50),\n",
    "            nn.Tanh(),\n",
    "            nn.Linear(50, 50),\n",
    "            nn.Tanh(),\n",
    "            nn.Linear(50, output_dim)\n",
    "        )\n",
    "\n",
    "    def forward(self, x):\n",
    "        x = torch.relu(self.layer(x))  # paper mentioned they are using tanh, but in source code they used relu as the final activation function\n",
    "        return x"
   ]
  },
  {
   "cell_type": "code",
   "execution_count": null,
   "metadata": {},
   "outputs": [],
   "source": [
    "def mmd_loss(source, target):\n",
    "    # Placeholder for Maximum Mean Discrepancy loss\n",
    "    # You would implement or import an actual MMD calculation here\n",
    "    pass"
   ]
  },
  {
   "cell_type": "code",
   "execution_count": null,
   "metadata": {},
   "outputs": [],
   "source": [
    "'''\n",
    "First, before training 𝜓, we normalize the score\n",
    "distributions of users in the outputs of the base model to a standard normal distribution.\n",
    "below is the predicted score matrix for warm start t items from the base model\n",
    "'''\n",
    "dat = load_data(data_path, alg)\n",
    "R = dat['R'].T\n",
    "R_output = copy.copy(R)\n",
    "    if args.alg == 'NLinMap' or args.alg == 'KNN':\n",
    "        R_output = (R - np.mean(R, axis=0, keepdims=True)) / (np.std(R, axis=0, keepdims=True) + 1e-9)\n"
   ]
  },
  {
   "attachments": {},
   "cell_type": "markdown",
   "metadata": {},
   "source": [
    "1. check optimizer = adam, done, back/forward backward, done ,epochs overall 100, detailedly 没看懂, batch size = 50, done"
   ]
  },
  {
   "cell_type": "code",
   "execution_count": null,
   "metadata": {},
   "outputs": [],
   "source": [
    "import numpy as np\n",
    "# Assuming 'data_loader' is your DataLoader for training data\n",
    "\n",
    "autoencoder = AutoEncoder([1,100,1], use_batch_norm=True)\n",
    "dist_gen = DistributionGenerator(1,1) #input dimension and output dimension\n",
    "ae_optimizer = torch.optim.Adam(autoencoder.parameters(), lr=1e-3)\n",
    "dg_optimizer = torch.optim.Adam(dist_gen.parameters(), lr=1e-3)\n",
    "batchsize = 50\n",
    "num_epochs = 100\n",
    "for epoch in range(num_epochs):\n",
    "    for data in data_loader: #i think each entry contain a user and intems, and in total N(6018) users\n",
    "        # Forward pass through autoencoder\n",
    "        ae_optimizer.zero_grad()\n",
    "        reconstructed = autoencoder(data)\n",
    "        ae_loss = torch.nn.functional.mse_loss(reconstructed, data)  # Example loss function\n",
    "        ae_loss.backward()\n",
    "        ae_optimizer.step()\n",
    "\n",
    "        # Forward pass through distribution generator\n",
    "        dg_optimizer.zero_grad()\n",
    "        # Generate target distribution P\n",
    "        # P needs to be computed based on current data distributions\n",
    "        # Example: Random seed input and model forward\n",
    "        random_seed = np.random.standard_normal(1000).reshape((-1, 1))\n",
    "        #random_seed = torch.randn((batchsize, 1))\n",
    "        P = dist_gen(random_seed)\n",
    "        dg_loss = mmd_loss(P, data)  # This is an illustrative placeholder\n",
    "        dg_loss.backward()\n",
    "        dg_optimizer.step()\n",
    "\n",
    "    print(f'Epoch {epoch+1}, Autoencoder Loss: {ae_loss.item()}, Dist Gen Loss: {dg_loss.item()}')\n",
    "\n"
   ]
  },
  {
   "attachments": {},
   "cell_type": "markdown",
   "metadata": {},
   "source": [
    "## from here begin ##"
   ]
  },
  {
   "cell_type": "code",
   "execution_count": 1,
   "metadata": {},
   "outputs": [],
   "source": [
    "# import utils\n",
    "# import data\n",
    "# import model\n",
    "\n",
    "import numpy as np\n",
    "import pandas as pd\n",
    "import torch\n",
    "import datetime\n",
    "from sklearn import datasets\n",
    "import scipy.sparse\n",
    "\n",
    "import argparse\n",
    "from tqdm import tqdm\n",
    "import os\n",
    "import pickle\n",
    "import copy"
   ]
  },
  {
   "cell_type": "code",
   "execution_count": 2,
   "metadata": {},
   "outputs": [],
   "source": [
    "from torch import nn, optim\n",
    "import torch.nn.functional as F"
   ]
  },
  {
   "cell_type": "code",
   "execution_count": 14,
   "metadata": {},
   "outputs": [],
   "source": [
    "n_users, n_items = 6018, 3018\n",
    "data_path = os.path.join(os.getcwd(), \"Data/ml1m\")"
   ]
  },
  {
   "cell_type": "code",
   "execution_count": 15,
   "metadata": {},
   "outputs": [],
   "source": [
    "train_df = pd.read_csv(data_path + '/train_df.csv', dtype=np.int32)\n",
    "item_warm = train_df['iid'].unique()"
   ]
  },
  {
   "cell_type": "code",
   "execution_count": 21,
   "metadata": {},
   "outputs": [],
   "source": [
    "u_pref = np.load(data_path + '/U_emb_Heater.npy')\n",
    "v_pref = np.load(data_path + '/I_emb_Heater.npy')\n",
    "R = np.matmul(u_pref, v_pref.T).T\n",
    "\n",
    "alpha = 4\n",
    "\n",
    "R_train = scipy.sparse.coo_matrix((np.ones(len(train_df)),\n",
    "                                              (train_df['iid'].values,\n",
    "                                              train_df['uid'].values)),\n",
    "                                             shape=(n_items, n_users)).tolil(copy=False)\n",
    "\n",
    "mask = R_train.toarray()\n",
    "R = R - np.min(R)\n",
    "R_output = R\n",
    "\n",
    "pos_sum = np.sum(mask, axis=1, keepdims=True)\n",
    "pos_mean = np.zeros_like(pos_sum)\n",
    "pos_std = np.zeros_like(pos_sum)\n",
    "pos_mean[item_warm, :] = np.sum(R_output[item_warm, :] * mask[item_warm, :], axis=1, keepdims=True) / pos_sum[item_warm, :]\n",
    "pos_std[item_warm, :] = np.sum((R_output[item_warm, :] - pos_mean[item_warm, :]) ** 2 * mask[item_warm, :], axis=1, keepdims=True) / pos_sum[item_warm, :]\n",
    "pos_mean = pos_mean ** alpha\n",
    "weights = np.zeros_like(pos_sum)\n",
    "weights[item_warm, :] = 0 + np.max(pos_mean[item_warm, :]) / pos_mean[item_warm, :]\n",
    "#R_output = R_output * weights * mask + (1 - mask) * R_output\n"
   ]
  },
  {
   "cell_type": "code",
   "execution_count": 22,
   "metadata": {},
   "outputs": [
    {
     "data": {
      "text/plain": [
       "array([(   0,   2), (   0,   7), (   0,   8), ..., (6017, 147),\n",
       "       (6017, 152), (6017,  26)], dtype=[('uid', '<i4'), ('iid', '<i4')])"
      ]
     },
     "execution_count": 22,
     "metadata": {},
     "output_type": "execute_result"
    }
   ],
   "source": [
    "train = train_df.values.ravel().view(dtype=[('uid', np.int32), ('iid', np.int32)])\n",
    "train"
   ]
  },
  {
   "cell_type": "code",
   "execution_count": 23,
   "metadata": {},
   "outputs": [],
   "source": [
    "cold_test = pd.read_csv(data_path + '/cold_test_df.csv', dtype=np.int32).values.ravel().view(dtype=[('uid', np.int32),\n",
    "                                                                                    ('iid', np.int32)])\n",
    "cold_vali = pd.read_csv(data_path + '/cold_vali_df.csv', dtype=np.int32).values.ravel().view(dtype=[('uid', np.int32),\n",
    "                                                                                    ('iid', np.int32)])"
   ]
  },
  {
   "cell_type": "code",
   "execution_count": 63,
   "metadata": {},
   "outputs": [],
   "source": [
    "from torch.utils.data import DataLoader, TensorDataset\n",
    "from torch.utils.data.dataloader import default_collate\n",
    "\n",
    "# Convert your data to PyTorch tensors\n",
    "R_tensor = torch.tensor(R, dtype=torch.float32)\n",
    "R_output_tensor = torch.tensor(R_output, dtype=torch.float32)\n",
    "\n",
    "# Create a dataset where both the input and the target are R (since it's an autoencoder)\n",
    "dataset = TensorDataset(R_tensor, R_output_tensor)\n",
    "def custom_collate_fn(batch):\n",
    "    return torch.stack(batch) \n",
    "\n",
    "\n",
    "\n",
    "train_loader = DataLoader(dataset, batch_size=50, shuffle=True, collate_fn=default_collate)\n"
   ]
  },
  {
   "cell_type": "code",
   "execution_count": 58,
   "metadata": {},
   "outputs": [],
   "source": [
    "class AutoEncoder(nn.Module):\n",
    "    def __init__(self, layer_sizes, use_batch_norm=False):\n",
    "        super(AutoEncoder, self).__init__()\n",
    "        self.layers = nn.ModuleList()\n",
    "        self.use_batch_norm = use_batch_norm\n",
    "        self.batch_norms = nn.ModuleList()\n",
    "\n",
    "        # Setup layers\n",
    "        for i in range(len(layer_sizes) - 1):\n",
    "            self.layers.append(nn.Linear(layer_sizes[i], layer_sizes[i + 1]))\n",
    "            if use_batch_norm and i < len(layer_sizes) - 1:\n",
    "                self.batch_norms.append(nn.BatchNorm1d(layer_sizes[i + 1]))\n",
    "\n",
    "    def forward(self, x):\n",
    "        x = x.view(-1, 6018)\n",
    "        for i, layer in enumerate(self.layers):\n",
    "            x = layer(x)\n",
    "            if self.use_batch_norm and i < len(self.layers) - 1:\n",
    "                x = self.batch_norms[i](x)\n",
    "            if i < len(self.layers) - 1:\n",
    "                x = torch.relu(x)\n",
    "        return x\n",
    "\n",
    "\n",
    "\n",
    "    def get_regularization_loss(self):\n",
    "        reg_loss = 0.0\n",
    "        for layer in self.layers:\n",
    "            reg_loss += torch.norm(layer.weight, p=2) + torch.norm(layer.bias, p=2)\n",
    "        return reg_loss\n"
   ]
  },
  {
   "cell_type": "code",
   "execution_count": 33,
   "metadata": {},
   "outputs": [],
   "source": [
    "class DistributionGenerator(nn.Module):\n",
    "    def __init__(self, input_dim, output_dim):\n",
    "        super(DistributionGenerator, self).__init__()\n",
    "        self.layers = nn.Sequential(\n",
    "            nn.Linear(input_dim, 50),\n",
    "            nn.Tanh(),\n",
    "            nn.Linear(50, 50),\n",
    "            nn.Tanh(),\n",
    "            nn.Linear(50, output_dim)\n",
    "        )\n",
    "\n",
    "    def forward(self, x):\n",
    "        return self.layers(x)\n",
    "\n"
   ]
  },
  {
   "cell_type": "code",
   "execution_count": 34,
   "metadata": {},
   "outputs": [],
   "source": [
    "def gaussian_kernel(x, y, sigma=1.0):\n",
    "    \"\"\"\n",
    "    Computes the Gaussian kernel matrix between two batches of data points.\n",
    "    \"\"\"\n",
    "    beta = 1. / (2. * sigma ** 2)\n",
    "    dist = torch.cdist(x, y)**2\n",
    "    return torch.exp(-beta * dist)\n",
    "\n",
    "def mmd_loss(source, target, sigma=1.0):\n",
    "    \"\"\"\n",
    "    Computes the Maximum Mean Discrepancy (MMD) between two samples: source and target.\n",
    "    The kernel used here is the Gaussian kernel.\n",
    "    \"\"\"\n",
    "    # Compute the kernel matrices for source, target, and between source and target\n",
    "    xx_kernel = gaussian_kernel(source, source, sigma)\n",
    "    yy_kernel = gaussian_kernel(target, target, sigma)\n",
    "    xy_kernel = gaussian_kernel(source, target, sigma)\n",
    "\n",
    "    # Compute MMD as the sum of the mean values of the kernels\n",
    "    mmd = xx_kernel.mean() + yy_kernel.mean() - 2 * xy_kernel.mean()\n",
    "    return mmd\n",
    "\n"
   ]
  },
  {
   "cell_type": "code",
   "execution_count": 81,
   "metadata": {},
   "outputs": [],
   "source": [
    "import torch\n",
    "\n",
    "def calculate_mmd_mask(source, target, threshold=0.1):\n",
    "    discrepancies = torch.abs(source - target)\n",
    "    mask = (discrepancies > threshold).float()  # Creates a mask of 0s and 1s\n",
    "    return mask\n"
   ]
  },
  {
   "cell_type": "code",
   "execution_count": 82,
   "metadata": {},
   "outputs": [],
   "source": [
    "def selective_mmd_loss(source, target, mask, sigma=1.0):\n",
    "    mmd_loss_full = mmd_loss(source, target, sigma)\n",
    "    masked_mmd_loss = mmd_loss_full * mask\n",
    "    return masked_mmd_loss.mean()  # Average only over selected elements\n"
   ]
  },
  {
   "cell_type": "code",
   "execution_count": 83,
   "metadata": {},
   "outputs": [],
   "source": [
    "alpha = 0.1  # Start with a base alpha\n",
    "alpha *= (epoch / 10)  # Example of dynamic adjustment based on epoch"
   ]
  },
  {
   "attachments": {},
   "cell_type": "markdown",
   "metadata": {},
   "source": [
    "1. check the losses on chatgpt\n",
    "2. check how alpha works\n",
    "3. stop at 1pm to start doing slides"
   ]
  },
  {
   "cell_type": "code",
   "execution_count": 86,
   "metadata": {},
   "outputs": [],
   "source": [
    "import matplotlib.pyplot as plt"
   ]
  },
  {
   "cell_type": "code",
   "execution_count": 87,
   "metadata": {},
   "outputs": [
    {
     "name": "stdout",
     "output_type": "stream",
     "text": [
      "Epoch 1, Average MSE Loss: 0.05455781165205064, Average Fairness Loss: 0.6005890305902137\n",
      "Epoch 1, MSE Loss: 0.026684856042265892, Fairness Loss: 0.528294026851654\n",
      "Epoch 2, Average MSE Loss: 0.011962542348526051, Average Fairness Loss: 0.35407186018638925\n",
      "Epoch 2, MSE Loss: 0.028058934956789017, Fairness Loss: 0.6733487844467163\n",
      "Epoch 3, Average MSE Loss: 0.0070511181915148356, Average Fairness Loss: 0.22331868918215642\n",
      "Epoch 3, MSE Loss: 0.005410348065197468, Fairness Loss: 0.17628192901611328\n",
      "Epoch 4, Average MSE Loss: 0.0057119293802524685, Average Fairness Loss: 0.17218377538880364\n",
      "Epoch 4, MSE Loss: 0.004902620799839497, Fairness Loss: 0.14970602095127106\n",
      "Epoch 5, Average MSE Loss: 0.0040895618483057766, Average Fairness Loss: 0.11563556561948823\n",
      "Epoch 5, MSE Loss: 0.007497874088585377, Fairness Loss: 0.2294948548078537\n",
      "Epoch 6, Average MSE Loss: 0.0034245112147487577, Average Fairness Loss: 0.09083371945336217\n",
      "Epoch 6, MSE Loss: 0.00695318728685379, Fairness Loss: 0.24085946381092072\n",
      "Epoch 7, Average MSE Loss: 0.0028759077855492715, Average Fairness Loss: 0.06901878747539442\n",
      "Epoch 7, MSE Loss: 0.005412268452346325, Fairness Loss: 0.18031629920005798\n",
      "Epoch 8, Average MSE Loss: 0.002545031016600914, Average Fairness Loss: 0.054929526614361124\n",
      "Epoch 8, MSE Loss: 0.00656648725271225, Fairness Loss: 0.23565112054347992\n",
      "Epoch 9, Average MSE Loss: 0.002443147223961891, Average Fairness Loss: 0.0515978548400959\n",
      "Epoch 9, MSE Loss: 0.002108837477862835, Fairness Loss: 0.035803575068712234\n",
      "Epoch 10, Average MSE Loss: 0.0023617252982297884, Average Fairness Loss: 0.04849438344846006\n",
      "Epoch 10, MSE Loss: 0.0016934812301769853, Fairness Loss: 0.025195470079779625\n"
     ]
    }
   ],
   "source": [
    "autoencoder = AutoEncoder([6018, 100, 6018], use_batch_norm=True)  #100 neurons, so it should be 100 in the hidden layer, but got error, so adjust 50 to 100\n",
    "dist_gen = DistributionGenerator(1, 6018)  # Input dimension and output dimension, 1 based on paper\n",
    "ae_optimizer = optim.Adam(autoencoder.parameters(), lr=0.005)\n",
    "dg_optimizer = optim.Adam(dist_gen.parameters(), lr=0.005)\n",
    "\n",
    "batch_size = 50\n",
    "num_epochs = 10\n",
    "args_max_pos_num = 1000\n",
    "#alpha = 200\n",
    "\n",
    "mse_losses = []\n",
    "fairness_losses = []\n",
    "\n",
    "autoencoder.train()\n",
    "dist_gen.train()\n",
    "\n",
    "for epoch in range(num_epochs):\n",
    "    epoch_mse_losses = []\n",
    "    epoch_fairness_losses = []\n",
    "    for inputs, targets in train_loader:\n",
    "        #autoencoder side\n",
    "        reconstructed = autoencoder(inputs)  \n",
    "        mse_loss = torch.nn.functional.mse_loss(reconstructed, inputs) \n",
    "        reg_loss = autoencoder.get_regularization_loss()\n",
    "\n",
    "\n",
    "        # Distribution generator side\n",
    "        random_seed = torch.randn((args_max_pos_num, 1))\n",
    "        P = dist_gen(random_seed)\n",
    "        mask = calculate_mmd_mask(reconstructed, inputs)\n",
    "        dg_loss = selective_mmd_loss(P, inputs.mean(dim=0, keepdim=True), mask)\n",
    "        \n",
    "        #combine losses\n",
    "        fairness_loss = dg_loss\n",
    "        total_loss = mse_loss + 0.00001 * reg_loss + fairness_loss #previous ae_loss\n",
    "        \n",
    "        total_loss.backward()\n",
    "        ae_optimizer.step()\n",
    "        ae_optimizer.zero_grad()\n",
    "        \n",
    "        epoch_mse_losses.append(mse_loss.item())\n",
    "        epoch_fairness_losses.append(fairness_loss.item())\n",
    "        \n",
    "    mse_losses.append(sum(epoch_mse_losses) / len(epoch_mse_losses))\n",
    "    fairness_losses.append(sum(epoch_fairness_losses) / len(epoch_fairness_losses))\n",
    "    print(f'Epoch {epoch+1}, Average MSE Loss: {mse_losses[-1]}, Average Fairness Loss: {fairness_losses[-1]}')\n",
    "\n",
    "        \n",
    "        \n",
    "\n",
    "    print(f'Epoch {epoch+1}, MSE Loss: {mse_loss.item()}, Fairness Loss: {fairness_loss.item()}')\n",
    "\n"
   ]
  },
  {
   "cell_type": "code",
   "execution_count": 88,
   "metadata": {},
   "outputs": [
    {
     "data": {
      "image/png": "[encoded data removed]",
      "text/plain": [
       "<Figure size 1000x500 with 1 Axes>"
      ]
     },
     "metadata": {},
     "output_type": "display_data"
    }
   ],
   "source": [
    "plt.figure(figsize=(10, 5))\n",
    "plt.plot(mse_losses, label='MSE Loss')\n",
    "plt.plot(fairness_losses, label='Fairness Loss')\n",
    "plt.title('Training Losses Over Epochs')\n",
    "plt.xlabel('Epochs')\n",
    "plt.ylabel('Loss')\n",
    "plt.legend()\n",
    "plt.show()"
   ]
  },
  {
   "cell_type": "code",
   "execution_count": null,
   "metadata": {},
   "outputs": [],
   "source": [
    "autoencoder.eval()\n",
    "dist_gen.eval()\n"
   ]
  }
 ],
 "metadata": {
  "kernelspec": {
   "display_name": "unav",
   "language": "python",
   "name": "python3"
  },
  "language_info": {
   "codemirror_mode": {
    "name": "ipython",
    "version": 3
   },
   "file_extension": ".py",
   "mimetype": "text/x-python",
   "name": "python",
   "nbconvert_exporter": "python",
   "pygments_lexer": "ipython3",
   "version": "3.9.18 (main, Sep 11 2023, 08:38:23) \n[Clang 14.0.6 ]"
  },
  "orig_nbformat": 4,
  "vscode": {
   "interpreter": {
    "hash": "17b0ace7df90b7db43f09ae2512abffd536b89597d4adb768ffff4e152e18f41"
   }
  }
 },
 "nbformat": 4,
 "nbformat_minor": 2
}
